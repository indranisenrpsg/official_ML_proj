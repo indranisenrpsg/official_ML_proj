{
 "cells": [
  {
   "cell_type": "code",
   "execution_count": 1,
   "id": "f626a09a",
   "metadata": {},
   "outputs": [],
   "source": [
    "import numpy as np\n",
    "import pandas as pd\n",
    "from sklearn.model_selection import train_test_split\n"
   ]
  },
  {
   "cell_type": "code",
   "execution_count": 2,
   "id": "8ce0210e",
   "metadata": {},
   "outputs": [
    {
     "data": {
      "text/html": [
       "<div>\n",
       "<style scoped>\n",
       "    .dataframe tbody tr th:only-of-type {\n",
       "        vertical-align: middle;\n",
       "    }\n",
       "\n",
       "    .dataframe tbody tr th {\n",
       "        vertical-align: top;\n",
       "    }\n",
       "\n",
       "    .dataframe thead th {\n",
       "        text-align: right;\n",
       "    }\n",
       "</style>\n",
       "<table border=\"1\" class=\"dataframe\">\n",
       "  <thead>\n",
       "    <tr style=\"text-align: right;\">\n",
       "      <th></th>\n",
       "      <th>DOCKET_NO</th>\n",
       "      <th>COMP_TYPE</th>\n",
       "      <th>COMPLAINT</th>\n",
       "    </tr>\n",
       "  </thead>\n",
       "  <tbody>\n",
       "    <tr>\n",
       "      <th>0</th>\n",
       "      <td>9239</td>\n",
       "      <td>C</td>\n",
       "      <td>Meter reading 004066 as on 04.01.2023.. please...</td>\n",
       "    </tr>\n",
       "    <tr>\n",
       "      <th>1</th>\n",
       "      <td>9238</td>\n",
       "      <td>C</td>\n",
       "      <td>meter reading 44287 as on 04.01.2023. Please u...</td>\n",
       "    </tr>\n",
       "    <tr>\n",
       "      <th>2</th>\n",
       "      <td>9237</td>\n",
       "      <td>C</td>\n",
       "      <td>Meter  reading 004200 as on 04.01.2023. Please...</td>\n",
       "    </tr>\n",
       "    <tr>\n",
       "      <th>3</th>\n",
       "      <td>9236</td>\n",
       "      <td>C</td>\n",
       "      <td>Bill is being generated for an absurd amount w...</td>\n",
       "    </tr>\n",
       "    <tr>\n",
       "      <th>4</th>\n",
       "      <td>9235</td>\n",
       "      <td>C</td>\n",
       "      <td>@CESCLimited\\r\\n [Grievance] 0ur electricity r...</td>\n",
       "    </tr>\n",
       "  </tbody>\n",
       "</table>\n",
       "</div>"
      ],
      "text/plain": [
       "   DOCKET_NO COMP_TYPE                                          COMPLAINT\n",
       "0       9239         C  Meter reading 004066 as on 04.01.2023.. please...\n",
       "1       9238         C  meter reading 44287 as on 04.01.2023. Please u...\n",
       "2       9237         C  Meter  reading 004200 as on 04.01.2023. Please...\n",
       "3       9236         C  Bill is being generated for an absurd amount w...\n",
       "4       9235         C  @CESCLimited\\r\\n [Grievance] 0ur electricity r..."
      ]
     },
     "execution_count": 2,
     "metadata": {},
     "output_type": "execute_result"
    }
   ],
   "source": [
    "Data = pd.read_excel('Email_complaint_machine_lear_indrani.xls')\n",
    "\n",
    "Data.head()"
   ]
  },
  {
   "cell_type": "code",
   "execution_count": 22,
   "id": "7f914416",
   "metadata": {},
   "outputs": [
    {
     "data": {
      "image/png": "[encoded data removed]",
      "text/plain": [
       "<Figure size 640x480 with 1 Axes>"
      ]
     },
     "metadata": {},
     "output_type": "display_data"
    }
   ],
   "source": [
    "import matplotlib.pyplot as plt\n",
    "import seaborn as sns\n",
    "sns.countplot(data=Data, x='COMP_TYPE')\n",
    "plt.show()"
   ]
  },
  {
   "cell_type": "code",
   "execution_count": null,
   "id": "bafeac14",
   "metadata": {},
   "outputs": [],
   "source": [
    "plt.xlabel('Points')\n",
    "plt.ylabel('Assists')"
   ]
  },
  {
   "cell_type": "code",
   "execution_count": 3,
   "id": "d96caad2",
   "metadata": {},
   "outputs": [],
   "source": [
    "from sklearn.preprocessing import LabelEncoder\n",
    "le = LabelEncoder()\n",
    "Data.COMP_TYPE= le.fit_transform(Data.COMP_TYPE.values)"
   ]
  },
  {
   "cell_type": "code",
   "execution_count": 4,
   "id": "3bee096b",
   "metadata": {},
   "outputs": [
    {
     "data": {
      "text/html": [
       "<div>\n",
       "<style scoped>\n",
       "    .dataframe tbody tr th:only-of-type {\n",
       "        vertical-align: middle;\n",
       "    }\n",
       "\n",
       "    .dataframe tbody tr th {\n",
       "        vertical-align: top;\n",
       "    }\n",
       "\n",
       "    .dataframe thead th {\n",
       "        text-align: right;\n",
       "    }\n",
       "</style>\n",
       "<table border=\"1\" class=\"dataframe\">\n",
       "  <thead>\n",
       "    <tr style=\"text-align: right;\">\n",
       "      <th></th>\n",
       "      <th>DOCKET_NO</th>\n",
       "      <th>COMP_TYPE</th>\n",
       "      <th>COMPLAINT</th>\n",
       "    </tr>\n",
       "  </thead>\n",
       "  <tbody>\n",
       "    <tr>\n",
       "      <th>0</th>\n",
       "      <td>9239</td>\n",
       "      <td>0</td>\n",
       "      <td>Meter reading 004066 as on 04.01.2023.. please...</td>\n",
       "    </tr>\n",
       "    <tr>\n",
       "      <th>1</th>\n",
       "      <td>9238</td>\n",
       "      <td>0</td>\n",
       "      <td>meter reading 44287 as on 04.01.2023. Please u...</td>\n",
       "    </tr>\n",
       "    <tr>\n",
       "      <th>2</th>\n",
       "      <td>9237</td>\n",
       "      <td>0</td>\n",
       "      <td>Meter  reading 004200 as on 04.01.2023. Please...</td>\n",
       "    </tr>\n",
       "    <tr>\n",
       "      <th>3</th>\n",
       "      <td>9236</td>\n",
       "      <td>0</td>\n",
       "      <td>Bill is being generated for an absurd amount w...</td>\n",
       "    </tr>\n",
       "    <tr>\n",
       "      <th>4</th>\n",
       "      <td>9235</td>\n",
       "      <td>0</td>\n",
       "      <td>@CESCLimited\\r\\n [Grievance] 0ur electricity r...</td>\n",
       "    </tr>\n",
       "  </tbody>\n",
       "</table>\n",
       "</div>"
      ],
      "text/plain": [
       "   DOCKET_NO  COMP_TYPE                                          COMPLAINT\n",
       "0       9239          0  Meter reading 004066 as on 04.01.2023.. please...\n",
       "1       9238          0  meter reading 44287 as on 04.01.2023. Please u...\n",
       "2       9237          0  Meter  reading 004200 as on 04.01.2023. Please...\n",
       "3       9236          0  Bill is being generated for an absurd amount w...\n",
       "4       9235          0  @CESCLimited\\r\\n [Grievance] 0ur electricity r..."
      ]
     },
     "execution_count": 4,
     "metadata": {},
     "output_type": "execute_result"
    }
   ],
   "source": [
    "Data.head()"
   ]
  },
  {
   "cell_type": "code",
   "execution_count": 5,
   "id": "be5ae1ae",
   "metadata": {},
   "outputs": [],
   "source": [
    "Data['COMPLAINT'] = Data['COMPLAINT'].str.replace('\\@', '', regex=True)\n"
   ]
  },
  {
   "cell_type": "code",
   "execution_count": 6,
   "id": "54b1e006",
   "metadata": {},
   "outputs": [],
   "source": [
    "Data['COMPLAINT'] = Data['COMPLAINT'].str.replace('\\#', '', regex=True)\n"
   ]
  },
  {
   "cell_type": "code",
   "execution_count": 7,
   "id": "a788c6be",
   "metadata": {},
   "outputs": [],
   "source": [
    "whitespace = \"\\r\\n\\t\"\n",
    "\n",
    "Data['COMPLAINT']=Data['COMPLAINT'].apply(lambda x: x.strip(whitespace))"
   ]
  },
  {
   "cell_type": "code",
   "execution_count": 8,
   "id": "dbfb5064",
   "metadata": {},
   "outputs": [
    {
     "data": {
      "text/html": [
       "<div>\n",
       "<style scoped>\n",
       "    .dataframe tbody tr th:only-of-type {\n",
       "        vertical-align: middle;\n",
       "    }\n",
       "\n",
       "    .dataframe tbody tr th {\n",
       "        vertical-align: top;\n",
       "    }\n",
       "\n",
       "    .dataframe thead th {\n",
       "        text-align: right;\n",
       "    }\n",
       "</style>\n",
       "<table border=\"1\" class=\"dataframe\">\n",
       "  <thead>\n",
       "    <tr style=\"text-align: right;\">\n",
       "      <th></th>\n",
       "      <th>DOCKET_NO</th>\n",
       "      <th>COMP_TYPE</th>\n",
       "      <th>COMPLAINT</th>\n",
       "    </tr>\n",
       "  </thead>\n",
       "  <tbody>\n",
       "    <tr>\n",
       "      <th>0</th>\n",
       "      <td>9239</td>\n",
       "      <td>0</td>\n",
       "      <td>Meter reading 004066 as on 04.01.2023.. please...</td>\n",
       "    </tr>\n",
       "    <tr>\n",
       "      <th>1</th>\n",
       "      <td>9238</td>\n",
       "      <td>0</td>\n",
       "      <td>meter reading 44287 as on 04.01.2023. Please u...</td>\n",
       "    </tr>\n",
       "    <tr>\n",
       "      <th>2</th>\n",
       "      <td>9237</td>\n",
       "      <td>0</td>\n",
       "      <td>Meter  reading 004200 as on 04.01.2023. Please...</td>\n",
       "    </tr>\n",
       "    <tr>\n",
       "      <th>3</th>\n",
       "      <td>9236</td>\n",
       "      <td>0</td>\n",
       "      <td>Bill is being generated for an absurd amount w...</td>\n",
       "    </tr>\n",
       "    <tr>\n",
       "      <th>4</th>\n",
       "      <td>9235</td>\n",
       "      <td>0</td>\n",
       "      <td>CESCLimited\\r\\n [Grievance] 0ur electricity re...</td>\n",
       "    </tr>\n",
       "  </tbody>\n",
       "</table>\n",
       "</div>"
      ],
      "text/plain": [
       "   DOCKET_NO  COMP_TYPE                                          COMPLAINT\n",
       "0       9239          0  Meter reading 004066 as on 04.01.2023.. please...\n",
       "1       9238          0  meter reading 44287 as on 04.01.2023. Please u...\n",
       "2       9237          0  Meter  reading 004200 as on 04.01.2023. Please...\n",
       "3       9236          0  Bill is being generated for an absurd amount w...\n",
       "4       9235          0  CESCLimited\\r\\n [Grievance] 0ur electricity re..."
      ]
     },
     "execution_count": 8,
     "metadata": {},
     "output_type": "execute_result"
    }
   ],
   "source": [
    "Data.head()"
   ]
  },
  {
   "cell_type": "code",
   "execution_count": 9,
   "id": "abfcd3f7",
   "metadata": {},
   "outputs": [],
   "source": [
    "from sklearn.model_selection import train_test_split\n",
    "from sklearn.metrics import mean_squared_error\n",
    "from sklearn.metrics import classification_report\n",
    "from sklearn.feature_extraction.text import CountVectorizer\n",
    "from sklearn import svm\n"
   ]
  },
  {
   "cell_type": "code",
   "execution_count": 10,
   "id": "e2b066c0",
   "metadata": {},
   "outputs": [],
   "source": [
    "# Split in train and with original data\n",
    "X = Data['COMPLAINT']\n",
    "y = Data['COMP_TYPE']\n",
    "X_train_org, X_test_org, y_train_org, y_test_org = train_test_split(X,y,test_size=0.2,random_state=0)"
   ]
  },
  {
   "cell_type": "code",
   "execution_count": 11,
   "id": "3b64e29a",
   "metadata": {},
   "outputs": [
    {
     "name": "stdout",
     "output_type": "stream",
     "text": [
      "[1 0 0 ... 1 0 0]\n",
      "0.966805346552182\n"
     ]
    }
   ],
   "source": [
    "cv = CountVectorizer()\n",
    "features = cv.fit_transform(X_train_org)\n",
    "\n",
    "model = svm.SVC()\n",
    "model.fit(features,y_train_org)\n",
    "\n",
    "features_test = cv.transform(X_test_org)\n",
    "print(model.predict(features_test))\n",
    "print(model.score(features_test,y_test_org))\n",
    "\n"
   ]
  },
  {
   "cell_type": "code",
   "execution_count": 12,
   "id": "a98757a7",
   "metadata": {},
   "outputs": [],
   "source": [
    "def find(x):\n",
    "    if x == 1:\n",
    "        print (\"Mail is BILLING related complaint\")\n",
    "    else:\n",
    "        print (\"Mail is Supply related complaint\")"
   ]
  },
  {
   "cell_type": "code",
   "execution_count": 13,
   "id": "a5f3ea39",
   "metadata": {},
   "outputs": [],
   "source": [
    "test_mail_body = [' GOOD AFTERNOON SIR WE SMART EXPRESS PVT LTD HAS SURRENDERED THE CONNX OUR DEPOSIT RECEIPT ATTACHED KINDLY SUPPORT TO GET THE SECURITY DEPOSIT BACK REGDS UJJAL THE INFORMATION TRANSMITTED BY THIS EMAIL IS INTENDED ONLY FOR THE PERSON OR ENTITY TO WHICH IT IS ADDRESSED THIS EMAIL MAY CONTAIN PROPRIETARY, BUSINESSCONFIDENTIAL, ANDOR PRIVILEGED MATERIAL IF YOU ARE NOT THE INTENDED RECIPIENT OF THIS MESSAGE, BE AWARE THAT ANY USE, REVIEW, RETRANSMISSION, DISTRIBUTION, REPRODUCTION, OR ANY ACTION TAKEN IN RELIANCE UPON THIS MESSAGE IS STRICTLY PROHIBITED IF YOU RECEIVED THIS IN ERROR, PLEASE CONTACT THE SENDER AND DELETE THE MATERIAL FROM ALL COMPUTERS  GOOD AFTERNOON SIR WE SMART EXPRESS PVT  LTD HAS SURRENDERED  THE CONNX  OUR DEPOSIT RECEIPT ATTACHED KINDLY SUPPORT TO GET THE SECURITY DEPOSIT BACK REGDS  UJJAL THE INFORMATION TRANSMITTED BY THIS EMAIL IS INTENDED ONLY FOR THE PERSON OR ENTITY TO WHICH IT IS ADDRESSED THIS EMAIL MAY CONTAIN PROPRIETARY, BUSINESSCONFIDENTIAL, ANDOR PRIVILEGED MATERIAL IF YOU ARE NOT THE INTENDED RECIPIENT OF THIS MESSAGE, BEAWARE THAT ANY USE, REVIEW, RETRANSMISSION, DISTRIBUTION, REPRODUCTION, OR ANY ACTION TAKEN IN RELIANCE UPON THIS MESSAGE IS STRICTLY PROHIBITED IF YOU RECEIVED THIS IN ERROR, PLEASE CONTACT THE SENDER AND DELETE THE MATERIAL FROM ALL COMPUTERS ']"
   ]
  },
  {
   "cell_type": "code",
   "execution_count": 14,
   "id": "830b56b1",
   "metadata": {},
   "outputs": [
    {
     "name": "stdout",
     "output_type": "stream",
     "text": [
      "Mail is Supply related complaint\n"
     ]
    }
   ],
   "source": [
    "result = cv.transform(test_mail_body)\n",
    "x = model.predict(result)\n",
    "find(x)"
   ]
  },
  {
   "cell_type": "code",
   "execution_count": null,
   "id": "39d3c18e",
   "metadata": {},
   "outputs": [],
   "source": [
    "#### PICKLE THE MODEL FILE"
   ]
  },
  {
   "cell_type": "code",
   "execution_count": 26,
   "id": "5bc2854b",
   "metadata": {},
   "outputs": [],
   "source": [
    "import pickle"
   ]
  },
  {
   "cell_type": "code",
   "execution_count": 33,
   "id": "12a192eb",
   "metadata": {},
   "outputs": [],
   "source": [
    "#pickle.dump(model,open('MLproj_emailcompcode.pkl'),'wb')\n",
    "\n",
    "with open('MLproj_emailcompcode_pkl', 'wb') as files:\n",
    "    pickle.dump(model, files)"
   ]
  },
  {
   "cell_type": "code",
   "execution_count": 39,
   "id": "aac37b69",
   "metadata": {},
   "outputs": [
    {
     "name": "stdout",
     "output_type": "stream",
     "text": [
      "Mail is Supply related complaint\n"
     ]
    }
   ],
   "source": [
    "\n",
    "with open('MLproj_emailcompcode_pkl' , 'rb') as f:\n",
    "    lr = pickle.load(f)\n",
    "# check prediction\n",
    "\n",
    "mm = lr.predict(result) # similar\n",
    "find(mm)"
   ]
  },
  {
   "cell_type": "code",
   "execution_count": null,
   "id": "32a6fe2e",
   "metadata": {},
   "outputs": [],
   "source": []
  }
 ],
 "metadata": {
  "kernelspec": {
   "display_name": "Python 3 (ipykernel)",
   "language": "python",
   "name": "python3"
  },
  "language_info": {
   "codemirror_mode": {
    "name": "ipython",
    "version": 3
   },
   "file_extension": ".py",
   "mimetype": "text/x-python",
   "name": "python",
   "nbconvert_exporter": "python",
   "pygments_lexer": "ipython3",
   "version": "3.9.13"
  }
 },
 "nbformat": 4,
 "nbformat_minor": 5
}
